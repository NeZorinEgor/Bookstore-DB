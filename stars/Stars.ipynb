{
  "nbformat": 4,
  "nbformat_minor": 0,
  "metadata": {
    "colab": {
      "provenance": [],
      "authorship_tag": "ABX9TyN1jDO1joP+iM1ucHpaZpxm",
      "include_colab_link": true
    },
    "kernelspec": {
      "name": "python3",
      "display_name": "Python 3"
    },
    "language_info": {
      "name": "python"
    }
  },
  "cells": [
    {
      "cell_type": "markdown",
      "metadata": {
        "id": "view-in-github",
        "colab_type": "text"
      },
      "source": [
        "<a href=\"https://colab.research.google.com/github/NeZorinEgor/Bookstore-DB/blob/main/stars/Stars.ipynb\" target=\"_parent\"><img src=\"https://colab.research.google.com/assets/colab-badge.svg\" alt=\"Open In Colab\"/></a>"
      ]
    },
    {
      "cell_type": "code",
      "source": [
        "import numpy as np\n",
        "from skimage.measure import label\n",
        "from skimage.morphology import binary_erosion"
      ],
      "metadata": {
        "id": "C_Is8SUl8ujF"
      },
      "execution_count": 6,
      "outputs": []
    },
    {
      "cell_type": "code",
      "execution_count": 13,
      "metadata": {
        "colab": {
          "base_uri": "https://localhost:8080/"
        },
        "id": "BVHfsLR78spc",
        "outputId": "e147e879-2579-410f-94e5-60610ea6dd2d"
      },
      "outputs": [
        {
          "output_type": "stream",
          "name": "stdout",
          "text": [
            "Количество звезд в виде креста: 90\n",
            "Количество звезд в виде креста: 71\n",
            "Количество звезд:  161\n"
          ]
        }
      ],
      "source": [
        "# Загрузка данных и создание масок\n",
        "data = np.load(\"stars.npy\")\n",
        "masks = [\n",
        "    np.array([[1, 0, 0, 0, 1],   # Маска в форме плюса\n",
        "              [0, 1, 0, 1, 0],\n",
        "              [0, 0, 1, 0, 0],\n",
        "              [0, 1, 0, 1, 0],\n",
        "              [1, 0, 0, 0, 1]]),\n",
        "\n",
        "    np.array([[0, 0, 1, 0, 0],   # Маска в форме креста\n",
        "              [0, 0, 1, 0, 0],\n",
        "              [1, 1, 1, 1, 1],\n",
        "              [0, 0, 1, 0, 0],\n",
        "              [0, 0, 1, 0, 0]])\n",
        "]\n",
        "\n",
        "# Маркировка объектов\n",
        "labelled_data = label(data)\n",
        "\n",
        "stars_num = 0\n",
        "for mask in masks:\n",
        "    res = label(binary_erosion(labelled_data, mask))\n",
        "    size = len(np.unique(res)) - 1  # Убираем 0 (фон), его не считаем\n",
        "    mask_type = \"плюса\" if np.all(mask) else \"креста\"\n",
        "    print(f\"Количество звезд в виде {mask_type}: {size}\")\n",
        "    stars_num += size\n",
        "\n",
        "print(\"Количество звезд: \", stars_num)"
      ]
    }
  ]
}